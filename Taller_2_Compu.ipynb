{
  "nbformat": 4,
  "nbformat_minor": 0,
  "metadata": {
    "colab": {
      "provenance": []
    },
    "kernelspec": {
      "name": "python3",
      "display_name": "Python 3"
    },
    "language_info": {
      "name": "python"
    }
  },
  "cells": [
    {
      "cell_type": "markdown",
      "source": [
        "# **Taller #2**"
      ],
      "metadata": {
        "id": "e-izld6oB8R1"
      }
    },
    {
      "cell_type": "markdown",
      "source": [
        "Integrantes :\n",
        "*   Maria Fernanda Díaz Velazquez\n",
        "*   Fabio Ordoñez\n",
        "*   Juan Pablo Pinzón González\n",
        "\n"
      ],
      "metadata": {
        "id": "OjMd87uSeGQ4"
      }
    },
    {
      "cell_type": "code",
      "execution_count": 1,
      "metadata": {
        "id": "k6wnuAg7WV94",
        "colab": {
          "base_uri": "https://localhost:8080/"
        },
        "outputId": "72cc7a05-a275-4f3a-837f-38b40b30a3b4"
      },
      "outputs": [
        {
          "output_type": "stream",
          "name": "stdout",
          "text": [
            "Looking in indexes: https://pypi.org/simple, https://us-python.pkg.dev/colab-wheels/public/simple/\n",
            "Collecting yfinance\n",
            "  Downloading yfinance-0.2.12-py2.py3-none-any.whl (59 kB)\n",
            "\u001b[2K     \u001b[90m━━━━━━━━━━━━━━━━━━━━━━━━━━━━━━━━━━━━━━━━\u001b[0m \u001b[32m59.2/59.2 KB\u001b[0m \u001b[31m1.9 MB/s\u001b[0m eta \u001b[36m0:00:00\u001b[0m\n",
            "\u001b[?25hCollecting requests>=2.26\n",
            "  Downloading requests-2.28.2-py3-none-any.whl (62 kB)\n",
            "\u001b[2K     \u001b[90m━━━━━━━━━━━━━━━━━━━━━━━━━━━━━━━━━━━━━━━━\u001b[0m \u001b[32m62.8/62.8 KB\u001b[0m \u001b[31m4.3 MB/s\u001b[0m eta \u001b[36m0:00:00\u001b[0m\n",
            "\u001b[?25hRequirement already satisfied: pandas>=1.3.0 in /usr/local/lib/python3.9/dist-packages (from yfinance) (1.3.5)\n",
            "Requirement already satisfied: multitasking>=0.0.7 in /usr/local/lib/python3.9/dist-packages (from yfinance) (0.0.11)\n",
            "Requirement already satisfied: numpy>=1.16.5 in /usr/local/lib/python3.9/dist-packages (from yfinance) (1.22.4)\n",
            "Collecting appdirs>=1.4.4\n",
            "  Downloading appdirs-1.4.4-py2.py3-none-any.whl (9.6 kB)\n",
            "Requirement already satisfied: pytz>=2022.5 in /usr/local/lib/python3.9/dist-packages (from yfinance) (2022.7.1)\n",
            "Collecting frozendict>=2.3.4\n",
            "  Downloading frozendict-2.3.5-cp39-cp39-manylinux_2_17_x86_64.manylinux2014_x86_64.whl (112 kB)\n",
            "\u001b[2K     \u001b[90m━━━━━━━━━━━━━━━━━━━━━━━━━━━━━━━━━━━━━━━\u001b[0m \u001b[32m112.8/112.8 KB\u001b[0m \u001b[31m7.9 MB/s\u001b[0m eta \u001b[36m0:00:00\u001b[0m\n",
            "\u001b[?25hCollecting html5lib>=1.1\n",
            "  Downloading html5lib-1.1-py2.py3-none-any.whl (112 kB)\n",
            "\u001b[2K     \u001b[90m━━━━━━━━━━━━━━━━━━━━━━━━━━━━━━━━━━━━━━━\u001b[0m \u001b[32m112.2/112.2 KB\u001b[0m \u001b[31m8.4 MB/s\u001b[0m eta \u001b[36m0:00:00\u001b[0m\n",
            "\u001b[?25hRequirement already satisfied: lxml>=4.9.1 in /usr/local/lib/python3.9/dist-packages (from yfinance) (4.9.2)\n",
            "Collecting cryptography>=3.3.2\n",
            "  Downloading cryptography-39.0.2-cp36-abi3-manylinux_2_28_x86_64.whl (4.2 MB)\n",
            "\u001b[2K     \u001b[90m━━━━━━━━━━━━━━━━━━━━━━━━━━━━━━━━━━━━━━━━\u001b[0m \u001b[32m4.2/4.2 MB\u001b[0m \u001b[31m17.9 MB/s\u001b[0m eta \u001b[36m0:00:00\u001b[0m\n",
            "\u001b[?25hCollecting beautifulsoup4>=4.11.1\n",
            "  Downloading beautifulsoup4-4.11.2-py3-none-any.whl (129 kB)\n",
            "\u001b[2K     \u001b[90m━━━━━━━━━━━━━━━━━━━━━━━━━━━━━━━━━━━━━━━\u001b[0m \u001b[32m129.4/129.4 KB\u001b[0m \u001b[31m5.9 MB/s\u001b[0m eta \u001b[36m0:00:00\u001b[0m\n",
            "\u001b[?25hCollecting soupsieve>1.2\n",
            "  Downloading soupsieve-2.4-py3-none-any.whl (37 kB)\n",
            "Requirement already satisfied: cffi>=1.12 in /usr/local/lib/python3.9/dist-packages (from cryptography>=3.3.2->yfinance) (1.15.1)\n",
            "Requirement already satisfied: webencodings in /usr/local/lib/python3.9/dist-packages (from html5lib>=1.1->yfinance) (0.5.1)\n",
            "Requirement already satisfied: six>=1.9 in /usr/local/lib/python3.9/dist-packages (from html5lib>=1.1->yfinance) (1.15.0)\n",
            "Requirement already satisfied: python-dateutil>=2.7.3 in /usr/local/lib/python3.9/dist-packages (from pandas>=1.3.0->yfinance) (2.8.2)\n",
            "Requirement already satisfied: idna<4,>=2.5 in /usr/local/lib/python3.9/dist-packages (from requests>=2.26->yfinance) (2.10)\n",
            "Collecting charset-normalizer<4,>=2\n",
            "  Downloading charset_normalizer-3.1.0-cp39-cp39-manylinux_2_17_x86_64.manylinux2014_x86_64.whl (199 kB)\n",
            "\u001b[2K     \u001b[90m━━━━━━━━━━━━━━━━━━━━━━━━━━━━━━━━━━━━━━━\u001b[0m \u001b[32m199.2/199.2 KB\u001b[0m \u001b[31m9.7 MB/s\u001b[0m eta \u001b[36m0:00:00\u001b[0m\n",
            "\u001b[?25hRequirement already satisfied: urllib3<1.27,>=1.21.1 in /usr/local/lib/python3.9/dist-packages (from requests>=2.26->yfinance) (1.26.14)\n",
            "Requirement already satisfied: certifi>=2017.4.17 in /usr/local/lib/python3.9/dist-packages (from requests>=2.26->yfinance) (2022.12.7)\n",
            "Requirement already satisfied: pycparser in /usr/local/lib/python3.9/dist-packages (from cffi>=1.12->cryptography>=3.3.2->yfinance) (2.21)\n",
            "Installing collected packages: appdirs, soupsieve, html5lib, frozendict, charset-normalizer, requests, cryptography, beautifulsoup4, yfinance\n",
            "  Attempting uninstall: html5lib\n",
            "    Found existing installation: html5lib 1.0.1\n",
            "    Uninstalling html5lib-1.0.1:\n",
            "      Successfully uninstalled html5lib-1.0.1\n",
            "  Attempting uninstall: requests\n",
            "    Found existing installation: requests 2.25.1\n",
            "    Uninstalling requests-2.25.1:\n",
            "      Successfully uninstalled requests-2.25.1\n",
            "  Attempting uninstall: beautifulsoup4\n",
            "    Found existing installation: beautifulsoup4 4.6.3\n",
            "    Uninstalling beautifulsoup4-4.6.3:\n",
            "      Successfully uninstalled beautifulsoup4-4.6.3\n",
            "Successfully installed appdirs-1.4.4 beautifulsoup4-4.11.2 charset-normalizer-3.1.0 cryptography-39.0.2 frozendict-2.3.5 html5lib-1.1 requests-2.28.2 soupsieve-2.4 yfinance-0.2.12\n"
          ]
        }
      ],
      "source": [
        "import numpy as np\n",
        "import pandas as pd\n",
        "import matplotlib.pyplot as plt\n",
        "from scipy.optimize import minimize\n",
        "from scipy.optimize import linprog\n",
        "!pip install yfinance\n",
        "import yfinance as yf\n",
        "import cvxpy as cp\n",
        "from scipy import stats\n",
        "import warnings\n",
        "warnings.filterwarnings(\"ignore\")"
      ]
    },
    {
      "cell_type": "markdown",
      "source": [
        "1. La empresa XYZ produce dos productos: A y B. La ganancia por unidad de A es de $3 dólares y de B es de $5 dólares. Para su producción dispone de 500 unidades de materia prima, 1000 unidades de mano de obra y 2000 dólares de capital, de los cuales se necesitan para producir una unidad de:\n",
        "\n",
        "i) A: una unidad de materia prima, dos unidades de mano de obra y una unidad de capital.\n",
        "\n",
        "ii) B: una unidad de materia prima, cuatro unidades de mano de obra y dos unidades de\n",
        "capital.\n",
        "\n",
        "Además, se necesita producir al menos 100 unidades de A y 150 unidades de B para\n",
        "satisfacer la demanda del mercado.\n",
        "Encuentre la asignación óptima de A y B que maximizan las ganancias de la empresa. Para ello, formule un problema de LP utilizando Scipy."
      ],
      "metadata": {
        "id": "rzugynqKu6MB"
      }
    },
    {
      "cell_type": "code",
      "source": [
        "from scipy.optimize import linprog\n",
        "\n",
        "# Coeficientes de la función objetivo\n",
        "c = [-3, -5]\n",
        "\n",
        "# Coeficientes de las restricciones\n",
        "A = [[1, 1], [2, 4], [1, 2]]\n",
        "b = [500, 1000, 2000]\n",
        "\n",
        "# Restricciones de no negatividad\n",
        "x0_bounds = (100, None)\n",
        "x1_bounds = (150, None)\n",
        "\n",
        "# Resolviendo el problema de programación lineal\n",
        "res = linprog(c, A_ub=A, b_ub=b, bounds=[x0_bounds, x1_bounds], method='simplex')\n",
        "\n",
        "# Imprimiendo los resultados\n",
        "print(\"Producción óptima de A:\", round(res.x[0], 2))\n",
        "print(\"Producción óptima de B:\", round(res.x[1], 2))\n",
        "print(\"Ganancia máxima: ${:,.2f}\".format(-res.fun))"
      ],
      "metadata": {
        "colab": {
          "base_uri": "https://localhost:8080/"
        },
        "id": "xX9up_dxu6T5",
        "outputId": "4a400d85-8054-48fb-d240-87571f58c1a7"
      },
      "execution_count": 2,
      "outputs": [
        {
          "output_type": "stream",
          "name": "stdout",
          "text": [
            "Producción óptima de A: 200.0\n",
            "Producción óptima de B: 150.0\n",
            "Ganancia máxima: $1,350.00\n"
          ]
        }
      ]
    },
    {
      "cell_type": "markdown",
      "source": [
        "2. Usted desea invertir la suma de $100 millones en cuatro fondos que tienen diferentes\n",
        "retornos esperados (E(R)), así como diferentes ponderaciones en acciones de alto valor,\n",
        "gran tamaño y alta liquidez, como muestra la siguiente tabla:"
      ],
      "metadata": {
        "id": "r3ERbFsdaUVN"
      }
    },
    {
      "cell_type": "code",
      "source": [
        "#En linprog\n",
        "\n",
        "c = np.array([0.1,0.15,0.16,0.08])\n",
        "A = np.array([[1,1,1,1]])\n",
        "b = np.array([100])\n",
        "\n",
        "D = np.array([[0.5,0.3,0.25,0.6],\n",
        "              [0.3,0.1,0.4,0.2],\n",
        "              [0.2,0.6,0.35,0.2]])\n",
        "d = np.array([35,30,15])\n",
        "\n",
        "resultado = linprog(-c,A_ub=-D,b_ub=-d,A_eq=A,b_eq=b, method='simplex')\n",
        "resultado\n"
      ],
      "metadata": {
        "id": "ob_oH7BFaP4B",
        "colab": {
          "base_uri": "https://localhost:8080/"
        },
        "outputId": "490717c9-f24d-4878-c9c7-3212de0b32d5"
      },
      "execution_count": 3,
      "outputs": [
        {
          "output_type": "execute_result",
          "data": {
            "text/plain": [
              " message: Optimization terminated successfully.\n",
              " success: True\n",
              "  status: 0\n",
              "     fun: -13.736842105263158\n",
              "       x: [ 0.000e+00  1.579e+01  5.789e+01  2.632e+01]\n",
              "     nit: 7"
            ]
          },
          "metadata": {},
          "execution_count": 3
        }
      ]
    },
    {
      "cell_type": "code",
      "source": [
        "#CVXPY\n",
        "n = len(c) \n",
        "x = cp.Variable(n) \n",
        "\n",
        "objective = cp.Maximize(c.T @ x )\n",
        "constraints = [A @ x == b, D @x>=d,x>=0]\n",
        "prob = cp.Problem(objective, constraints)\n",
        "\n",
        "result = prob.solve()\n",
        "\n",
        "sol = round(pd.DataFrame(x.value),4)\n",
        "sol\n",
        "#Interpretado como cantidad invertida"
      ],
      "metadata": {
        "id": "uMAevni-UVVi",
        "colab": {
          "base_uri": "https://localhost:8080/",
          "height": 175
        },
        "outputId": "38a1118e-ae14-412e-b387-9dae277489e4"
      },
      "execution_count": 4,
      "outputs": [
        {
          "output_type": "execute_result",
          "data": {
            "text/plain": [
              "         0\n",
              "0   0.0000\n",
              "1  15.7895\n",
              "2  57.8947\n",
              "3  26.3158"
            ],
            "text/html": [
              "\n",
              "  <div id=\"df-0bfd65ab-d9cf-47dd-9f29-dd760a95cd4d\">\n",
              "    <div class=\"colab-df-container\">\n",
              "      <div>\n",
              "<style scoped>\n",
              "    .dataframe tbody tr th:only-of-type {\n",
              "        vertical-align: middle;\n",
              "    }\n",
              "\n",
              "    .dataframe tbody tr th {\n",
              "        vertical-align: top;\n",
              "    }\n",
              "\n",
              "    .dataframe thead th {\n",
              "        text-align: right;\n",
              "    }\n",
              "</style>\n",
              "<table border=\"1\" class=\"dataframe\">\n",
              "  <thead>\n",
              "    <tr style=\"text-align: right;\">\n",
              "      <th></th>\n",
              "      <th>0</th>\n",
              "    </tr>\n",
              "  </thead>\n",
              "  <tbody>\n",
              "    <tr>\n",
              "      <th>0</th>\n",
              "      <td>0.0000</td>\n",
              "    </tr>\n",
              "    <tr>\n",
              "      <th>1</th>\n",
              "      <td>15.7895</td>\n",
              "    </tr>\n",
              "    <tr>\n",
              "      <th>2</th>\n",
              "      <td>57.8947</td>\n",
              "    </tr>\n",
              "    <tr>\n",
              "      <th>3</th>\n",
              "      <td>26.3158</td>\n",
              "    </tr>\n",
              "  </tbody>\n",
              "</table>\n",
              "</div>\n",
              "      <button class=\"colab-df-convert\" onclick=\"convertToInteractive('df-0bfd65ab-d9cf-47dd-9f29-dd760a95cd4d')\"\n",
              "              title=\"Convert this dataframe to an interactive table.\"\n",
              "              style=\"display:none;\">\n",
              "        \n",
              "  <svg xmlns=\"http://www.w3.org/2000/svg\" height=\"24px\"viewBox=\"0 0 24 24\"\n",
              "       width=\"24px\">\n",
              "    <path d=\"M0 0h24v24H0V0z\" fill=\"none\"/>\n",
              "    <path d=\"M18.56 5.44l.94 2.06.94-2.06 2.06-.94-2.06-.94-.94-2.06-.94 2.06-2.06.94zm-11 1L8.5 8.5l.94-2.06 2.06-.94-2.06-.94L8.5 2.5l-.94 2.06-2.06.94zm10 10l.94 2.06.94-2.06 2.06-.94-2.06-.94-.94-2.06-.94 2.06-2.06.94z\"/><path d=\"M17.41 7.96l-1.37-1.37c-.4-.4-.92-.59-1.43-.59-.52 0-1.04.2-1.43.59L10.3 9.45l-7.72 7.72c-.78.78-.78 2.05 0 2.83L4 21.41c.39.39.9.59 1.41.59.51 0 1.02-.2 1.41-.59l7.78-7.78 2.81-2.81c.8-.78.8-2.07 0-2.86zM5.41 20L4 18.59l7.72-7.72 1.47 1.35L5.41 20z\"/>\n",
              "  </svg>\n",
              "      </button>\n",
              "      \n",
              "  <style>\n",
              "    .colab-df-container {\n",
              "      display:flex;\n",
              "      flex-wrap:wrap;\n",
              "      gap: 12px;\n",
              "    }\n",
              "\n",
              "    .colab-df-convert {\n",
              "      background-color: #E8F0FE;\n",
              "      border: none;\n",
              "      border-radius: 50%;\n",
              "      cursor: pointer;\n",
              "      display: none;\n",
              "      fill: #1967D2;\n",
              "      height: 32px;\n",
              "      padding: 0 0 0 0;\n",
              "      width: 32px;\n",
              "    }\n",
              "\n",
              "    .colab-df-convert:hover {\n",
              "      background-color: #E2EBFA;\n",
              "      box-shadow: 0px 1px 2px rgba(60, 64, 67, 0.3), 0px 1px 3px 1px rgba(60, 64, 67, 0.15);\n",
              "      fill: #174EA6;\n",
              "    }\n",
              "\n",
              "    [theme=dark] .colab-df-convert {\n",
              "      background-color: #3B4455;\n",
              "      fill: #D2E3FC;\n",
              "    }\n",
              "\n",
              "    [theme=dark] .colab-df-convert:hover {\n",
              "      background-color: #434B5C;\n",
              "      box-shadow: 0px 1px 3px 1px rgba(0, 0, 0, 0.15);\n",
              "      filter: drop-shadow(0px 1px 2px rgba(0, 0, 0, 0.3));\n",
              "      fill: #FFFFFF;\n",
              "    }\n",
              "  </style>\n",
              "\n",
              "      <script>\n",
              "        const buttonEl =\n",
              "          document.querySelector('#df-0bfd65ab-d9cf-47dd-9f29-dd760a95cd4d button.colab-df-convert');\n",
              "        buttonEl.style.display =\n",
              "          google.colab.kernel.accessAllowed ? 'block' : 'none';\n",
              "\n",
              "        async function convertToInteractive(key) {\n",
              "          const element = document.querySelector('#df-0bfd65ab-d9cf-47dd-9f29-dd760a95cd4d');\n",
              "          const dataTable =\n",
              "            await google.colab.kernel.invokeFunction('convertToInteractive',\n",
              "                                                     [key], {});\n",
              "          if (!dataTable) return;\n",
              "\n",
              "          const docLinkHtml = 'Like what you see? Visit the ' +\n",
              "            '<a target=\"_blank\" href=https://colab.research.google.com/notebooks/data_table.ipynb>data table notebook</a>'\n",
              "            + ' to learn more about interactive tables.';\n",
              "          element.innerHTML = '';\n",
              "          dataTable['output_type'] = 'display_data';\n",
              "          await google.colab.output.renderOutput(dataTable, element);\n",
              "          const docLink = document.createElement('div');\n",
              "          docLink.innerHTML = docLinkHtml;\n",
              "          element.appendChild(docLink);\n",
              "        }\n",
              "      </script>\n",
              "    </div>\n",
              "  </div>\n",
              "  "
            ]
          },
          "metadata": {},
          "execution_count": 4
        }
      ]
    },
    {
      "cell_type": "markdown",
      "source": [
        "3. La empresa XYZ se enfrente al siguiente problema de manejo de efectivo. Las cifras\n",
        "están expresadas en millones ($).\n",
        "\n",
        "Además, se sabe que la empresa cuenta con las siguientes fuentes de recursos:\n",
        "\n",
        "• Una línea de crédito de hasta $100 a una tasa de interés del 1% mensual.\n",
        "\n",
        "• Puede emitir papel comercial a 90 días con un interés total del 2% por un período\n",
        "de 3 meses.\n",
        "\n",
        "• Todos los meses se pueden invertir los fondos sobrantes a una tasa de interés del\n",
        "0,3% mensual. Por ejemplo, la empresa podría hacer un depósito bancario que le\n",
        "reconoce esa tasa.\n",
        "\n",
        "Sobre este problema, la empresa desea saber si: ¿usar la línea de crédito en algunos de los meses le representa un alto costo? si es así ¿cuándo debería usarla? ¿cuánto cuesta? ¿qué pagos de intereses tendrá que hacer entre enero y junio? etc... Para responder a estos interrogantes, la empresa puede formular y resolver un problema de LP. Para la formulación del problema tener en cuenta lo siguiente:"
      ],
      "metadata": {
        "id": "8l96-8UCcTmw"
      }
    },
    {
      "cell_type": "code",
      "source": [
        "# Datos del problema\n",
        "FCneto = [-150, -100, 200, -200, 50, 300]\n",
        "\n",
        "# Variables\n",
        "x = cp.Variable(5, nonneg=True)  # Monto dispuesto a pedir en la línea de crédito en el mes j, j=1,2,3,4,5\n",
        "y = cp.Variable((3,1), nonneg=True)  # Monto emitido en el papel comercial en el mes j, j=1,2,3\n",
        "z = cp.Variable(6, nonneg=True)  # Saldo de fondos en el mes j, j=1,2,3,4,5,6\n",
        "\n",
        "# Restricciones\n",
        "constraints = []\n",
        "constraints.append(x <= 100)  # xj <= 100 para j = 1,2,3,4,5\n",
        "constraints.append(x >= 0)  # xj >= 0 para j = 1,2,3,4,5\n",
        "constraints.append(y >= 0)  # yj >= 0 para j = 1,2,3\n",
        "constraints.append(z >= 0)  # zj >= 0 para j = 1,2,3,4,5\n",
        "constraints.append(x[0] + y[0] - z[0] == 150)\n",
        "constraints.append(x[1] + y[1] - 1.01*x[0] + 1.003*z[0] - z[1] == 100)\n",
        "constraints.append(x[2] + y[2] - 1.01*x[1] + 1.003*z[1] - z[2] == -200)\n",
        "constraints.append(x[3] - 1.02*y[0] - 1.01*x[2] + 1.003*z[2] - z[3] == 200)\n",
        "constraints.append(x[4] - 1.02*y[1] - 1.01*x[3] + 1.003*z[3] - z[4] == -50)\n",
        "constraints.append(-1.02*y[2] - 1.01*x[4] + 1.003*z[4] - z[5] == -300)\n",
        "\n",
        "# Función objetivo\n",
        "obj = cp.Maximize(z[5])  # Maximizar el saldo de los fondos en el mes 6 (Junio)\n",
        "\n",
        "# Resolución del problema\n",
        "prob = cp.Problem(obj, constraints)\n",
        "prob.solve()\n",
        "\n",
        "# Resultados\n",
        "print(\"Status de la solución:\", prob.status)\n",
        "print(\"Valor óptimo de la función objetivo:\", prob.value)\n",
        "print(\"Valor óptimo de las variables x:\", x.value)\n",
        "print(\"Valor óptimo de las variables y:\", y.value)\n",
        "print(\"Valor óptimo de las variables z:\", z.value)\n"
      ],
      "metadata": {
        "colab": {
          "base_uri": "https://localhost:8080/"
        },
        "id": "71Pz8zxkxKY6",
        "outputId": "77045fd0-8a02-46bb-e728-fb3d409ca6aa"
      },
      "execution_count": 5,
      "outputs": [
        {
          "output_type": "stream",
          "name": "stdout",
          "text": [
            "Status de la solución: optimal\n",
            "Valor óptimo de la función objetivo: 92.49694913918181\n",
            "Valor óptimo de las variables x: [1.52279431e-07 2.42871680e+01 4.07136341e-07 1.37937716e-07\n",
            " 2.72270876e+01]\n",
            "Valor óptimo de las variables y: [[150.00000077]\n",
            " [ 75.7128314 ]\n",
            " [176.47420844]]\n",
            "Valor óptimo de las variables z: [9.18655879e-07 1.92601707e-07 3.51944169e+02 7.80918648e-07\n",
            " 2.04373310e-07 9.24969491e+01]\n"
          ]
        }
      ]
    },
    {
      "cell_type": "markdown",
      "source": [
        "4. La empresa XYZ desea encontrar el saldo óptimo que debe mantener en su cuenta\n",
        "bancaria en un horizonte de un mes buscando maximizar su rentabilidad total. Se sabe que la empresa espera recibir entradas de efectivo de: $500 en la primera semana, $300 en la segunda semana, $200 en la tercera semana y $400 en la cuarta semana. Todas las cifras se encuentran en millones de pesos. Además, la empresa debe realizar los siguientes pagos durante el mes: $350 en la primera semana, $400 en la segunda semana, $250 en la tercera semana y $200 en la cuarta semana y, para ello, debe mantener un saldo suficiente que respalde estas obligaciones.\n",
        "\n",
        "Para aprovechar la rentabilidad que ofrecen los saldos en cada momento, la empresa puede invertir sus recursos en un instrumento a corto plazo en el que recibe un rendimiento del 0,02% por día, pero al realizar esta operación debe incurrir en un costo de transacción del 0,01% del monto transferido.\n",
        "\n",
        "Formule un problema de LP utilizando Scipy que le permita maximizar la rentabilidad total de los saldos en su cuenta teniendo en cuenta las restricciones de sus flujos de efectivo."
      ],
      "metadata": {
        "id": "6aKP1NCaf--a"
      }
    },
    {
      "cell_type": "code",
      "source": [
        "#Funcion objetivo\n",
        "FO = np.array([0,0,0,0,0,0,0,1])\n",
        "\n",
        "#Restricciones\n",
        "Rn_4=(1+0.0001)**7\n",
        "A_4= np.array([[1,0,0,0,-1,0,0,0],\n",
        "                [0,1,0,0,Rn_4,-1,0,0],\n",
        "                [0,0,1,0,0,Rn_4,-1,0],\n",
        "                [0,0,0,1,0,0,Rn_4,-1]])\n",
        "b_4= np.array([150,-100,-50,200])\n",
        "\n",
        "#Funcion de optimización\n",
        "Rta_pt4= linprog(-FO,A_ub=A_4,b_ub=-b_4,method=\"simplex\")\n",
        "Val_opti=pd.DataFrame(Rta_pt4.x).T\n",
        "Val_opti"
      ],
      "metadata": {
        "colab": {
          "base_uri": "https://localhost:8080/",
          "height": 81
        },
        "id": "9rsV-uF8f_gx",
        "outputId": "8db23970-2427-4dd5-a83f-81f209087f8c"
      },
      "execution_count": 6,
      "outputs": [
        {
          "output_type": "execute_result",
          "data": {
            "text/plain": [
              "     0    1    2    3      4          5         6           7\n",
              "0  0.0  0.0  0.0  0.0  150.0  50.105032  0.140116  200.140214"
            ],
            "text/html": [
              "\n",
              "  <div id=\"df-11cc0156-3af5-48a9-86f8-99a019cf8b5d\">\n",
              "    <div class=\"colab-df-container\">\n",
              "      <div>\n",
              "<style scoped>\n",
              "    .dataframe tbody tr th:only-of-type {\n",
              "        vertical-align: middle;\n",
              "    }\n",
              "\n",
              "    .dataframe tbody tr th {\n",
              "        vertical-align: top;\n",
              "    }\n",
              "\n",
              "    .dataframe thead th {\n",
              "        text-align: right;\n",
              "    }\n",
              "</style>\n",
              "<table border=\"1\" class=\"dataframe\">\n",
              "  <thead>\n",
              "    <tr style=\"text-align: right;\">\n",
              "      <th></th>\n",
              "      <th>0</th>\n",
              "      <th>1</th>\n",
              "      <th>2</th>\n",
              "      <th>3</th>\n",
              "      <th>4</th>\n",
              "      <th>5</th>\n",
              "      <th>6</th>\n",
              "      <th>7</th>\n",
              "    </tr>\n",
              "  </thead>\n",
              "  <tbody>\n",
              "    <tr>\n",
              "      <th>0</th>\n",
              "      <td>0.0</td>\n",
              "      <td>0.0</td>\n",
              "      <td>0.0</td>\n",
              "      <td>0.0</td>\n",
              "      <td>150.0</td>\n",
              "      <td>50.105032</td>\n",
              "      <td>0.140116</td>\n",
              "      <td>200.140214</td>\n",
              "    </tr>\n",
              "  </tbody>\n",
              "</table>\n",
              "</div>\n",
              "      <button class=\"colab-df-convert\" onclick=\"convertToInteractive('df-11cc0156-3af5-48a9-86f8-99a019cf8b5d')\"\n",
              "              title=\"Convert this dataframe to an interactive table.\"\n",
              "              style=\"display:none;\">\n",
              "        \n",
              "  <svg xmlns=\"http://www.w3.org/2000/svg\" height=\"24px\"viewBox=\"0 0 24 24\"\n",
              "       width=\"24px\">\n",
              "    <path d=\"M0 0h24v24H0V0z\" fill=\"none\"/>\n",
              "    <path d=\"M18.56 5.44l.94 2.06.94-2.06 2.06-.94-2.06-.94-.94-2.06-.94 2.06-2.06.94zm-11 1L8.5 8.5l.94-2.06 2.06-.94-2.06-.94L8.5 2.5l-.94 2.06-2.06.94zm10 10l.94 2.06.94-2.06 2.06-.94-2.06-.94-.94-2.06-.94 2.06-2.06.94z\"/><path d=\"M17.41 7.96l-1.37-1.37c-.4-.4-.92-.59-1.43-.59-.52 0-1.04.2-1.43.59L10.3 9.45l-7.72 7.72c-.78.78-.78 2.05 0 2.83L4 21.41c.39.39.9.59 1.41.59.51 0 1.02-.2 1.41-.59l7.78-7.78 2.81-2.81c.8-.78.8-2.07 0-2.86zM5.41 20L4 18.59l7.72-7.72 1.47 1.35L5.41 20z\"/>\n",
              "  </svg>\n",
              "      </button>\n",
              "      \n",
              "  <style>\n",
              "    .colab-df-container {\n",
              "      display:flex;\n",
              "      flex-wrap:wrap;\n",
              "      gap: 12px;\n",
              "    }\n",
              "\n",
              "    .colab-df-convert {\n",
              "      background-color: #E8F0FE;\n",
              "      border: none;\n",
              "      border-radius: 50%;\n",
              "      cursor: pointer;\n",
              "      display: none;\n",
              "      fill: #1967D2;\n",
              "      height: 32px;\n",
              "      padding: 0 0 0 0;\n",
              "      width: 32px;\n",
              "    }\n",
              "\n",
              "    .colab-df-convert:hover {\n",
              "      background-color: #E2EBFA;\n",
              "      box-shadow: 0px 1px 2px rgba(60, 64, 67, 0.3), 0px 1px 3px 1px rgba(60, 64, 67, 0.15);\n",
              "      fill: #174EA6;\n",
              "    }\n",
              "\n",
              "    [theme=dark] .colab-df-convert {\n",
              "      background-color: #3B4455;\n",
              "      fill: #D2E3FC;\n",
              "    }\n",
              "\n",
              "    [theme=dark] .colab-df-convert:hover {\n",
              "      background-color: #434B5C;\n",
              "      box-shadow: 0px 1px 3px 1px rgba(0, 0, 0, 0.15);\n",
              "      filter: drop-shadow(0px 1px 2px rgba(0, 0, 0, 0.3));\n",
              "      fill: #FFFFFF;\n",
              "    }\n",
              "  </style>\n",
              "\n",
              "      <script>\n",
              "        const buttonEl =\n",
              "          document.querySelector('#df-11cc0156-3af5-48a9-86f8-99a019cf8b5d button.colab-df-convert');\n",
              "        buttonEl.style.display =\n",
              "          google.colab.kernel.accessAllowed ? 'block' : 'none';\n",
              "\n",
              "        async function convertToInteractive(key) {\n",
              "          const element = document.querySelector('#df-11cc0156-3af5-48a9-86f8-99a019cf8b5d');\n",
              "          const dataTable =\n",
              "            await google.colab.kernel.invokeFunction('convertToInteractive',\n",
              "                                                     [key], {});\n",
              "          if (!dataTable) return;\n",
              "\n",
              "          const docLinkHtml = 'Like what you see? Visit the ' +\n",
              "            '<a target=\"_blank\" href=https://colab.research.google.com/notebooks/data_table.ipynb>data table notebook</a>'\n",
              "            + ' to learn more about interactive tables.';\n",
              "          element.innerHTML = '';\n",
              "          dataTable['output_type'] = 'display_data';\n",
              "          await google.colab.output.renderOutput(dataTable, element);\n",
              "          const docLink = document.createElement('div');\n",
              "          docLink.innerHTML = docLinkHtml;\n",
              "          element.appendChild(docLink);\n",
              "        }\n",
              "      </script>\n",
              "    </div>\n",
              "  </div>\n",
              "  "
            ]
          },
          "metadata": {},
          "execution_count": 6
        }
      ]
    },
    {
      "cell_type": "markdown",
      "source": [
        "Cantidades que quedan ahi una vez que salen de la accion,maximizamos"
      ],
      "metadata": {
        "id": "QG_Yq7KWoE3i"
      }
    },
    {
      "cell_type": "markdown",
      "source": [
        "5. La empresa XYZ tiene que decidir como distribuye su presupuesto 10.000 millones y la mano de obra (horas de trabajo) en tres departamentos: ventas, marketing y producción buscando maximizar sus ganancias. Para ello, se sabe que cada departamento le proporciona a la empresa las siguientes ganancias: ventas: $5, marketing: 8$, y producción: $10. Esta asignación debe cumplir las siguientes restricciones:\n",
        "\n",
        "i. El total de horas de trabajo disponibles es de 1.000.\n",
        "\n",
        "ii. El departamento de ventas debe recibir al menos el 20% del presupuesto total.\n",
        "\n",
        "iii. El departamento de marketing debe recibir al menos el 30% del total de horas de\n",
        "trabajo disponibles.\n",
        "\n",
        "iv. El departamento de producción debe recibir al menos el 25% del total de horas de trabajo disponibles."
      ],
      "metadata": {
        "id": "9_uNOtB4qNJi"
      }
    },
    {
      "cell_type": "code",
      "source": [
        "c=np.array([0,0,0,5,8,10])\n",
        "A=np.array([[0,0,0,1,1,1],[1,1,1,0,0,0]])\n",
        "D=np.array([[0,0,0,0,1,0],[0,1,0,0,0,0],[0,0,1,0,0,0],[0,0,0,1,0,0],[0,0,0,0,0,1]])\n",
        "d=np.array([2000,300,250,2000,2000])\n",
        "b=np.array([10000,1000])\n",
        "\n",
        "rta=linprog(-c,A_ub=-D,b_ub=-d,A_eq=A,b_eq=b,method=\"simplex\")\n",
        "pd.DataFrame(rta.x).round(4)"
      ],
      "metadata": {
        "colab": {
          "base_uri": "https://localhost:8080/",
          "height": 237
        },
        "id": "w3qnkHXPkqPA",
        "outputId": "2d436ba2-5e56-4041-fb94-a1304a840120"
      },
      "execution_count": 7,
      "outputs": [
        {
          "output_type": "execute_result",
          "data": {
            "text/plain": [
              "        0\n",
              "0   450.0\n",
              "1   300.0\n",
              "2   250.0\n",
              "3  2000.0\n",
              "4  2000.0\n",
              "5  6000.0"
            ],
            "text/html": [
              "\n",
              "  <div id=\"df-cde5ec5c-02b4-4aee-94f4-5789f53858ad\">\n",
              "    <div class=\"colab-df-container\">\n",
              "      <div>\n",
              "<style scoped>\n",
              "    .dataframe tbody tr th:only-of-type {\n",
              "        vertical-align: middle;\n",
              "    }\n",
              "\n",
              "    .dataframe tbody tr th {\n",
              "        vertical-align: top;\n",
              "    }\n",
              "\n",
              "    .dataframe thead th {\n",
              "        text-align: right;\n",
              "    }\n",
              "</style>\n",
              "<table border=\"1\" class=\"dataframe\">\n",
              "  <thead>\n",
              "    <tr style=\"text-align: right;\">\n",
              "      <th></th>\n",
              "      <th>0</th>\n",
              "    </tr>\n",
              "  </thead>\n",
              "  <tbody>\n",
              "    <tr>\n",
              "      <th>0</th>\n",
              "      <td>450.0</td>\n",
              "    </tr>\n",
              "    <tr>\n",
              "      <th>1</th>\n",
              "      <td>300.0</td>\n",
              "    </tr>\n",
              "    <tr>\n",
              "      <th>2</th>\n",
              "      <td>250.0</td>\n",
              "    </tr>\n",
              "    <tr>\n",
              "      <th>3</th>\n",
              "      <td>2000.0</td>\n",
              "    </tr>\n",
              "    <tr>\n",
              "      <th>4</th>\n",
              "      <td>2000.0</td>\n",
              "    </tr>\n",
              "    <tr>\n",
              "      <th>5</th>\n",
              "      <td>6000.0</td>\n",
              "    </tr>\n",
              "  </tbody>\n",
              "</table>\n",
              "</div>\n",
              "      <button class=\"colab-df-convert\" onclick=\"convertToInteractive('df-cde5ec5c-02b4-4aee-94f4-5789f53858ad')\"\n",
              "              title=\"Convert this dataframe to an interactive table.\"\n",
              "              style=\"display:none;\">\n",
              "        \n",
              "  <svg xmlns=\"http://www.w3.org/2000/svg\" height=\"24px\"viewBox=\"0 0 24 24\"\n",
              "       width=\"24px\">\n",
              "    <path d=\"M0 0h24v24H0V0z\" fill=\"none\"/>\n",
              "    <path d=\"M18.56 5.44l.94 2.06.94-2.06 2.06-.94-2.06-.94-.94-2.06-.94 2.06-2.06.94zm-11 1L8.5 8.5l.94-2.06 2.06-.94-2.06-.94L8.5 2.5l-.94 2.06-2.06.94zm10 10l.94 2.06.94-2.06 2.06-.94-2.06-.94-.94-2.06-.94 2.06-2.06.94z\"/><path d=\"M17.41 7.96l-1.37-1.37c-.4-.4-.92-.59-1.43-.59-.52 0-1.04.2-1.43.59L10.3 9.45l-7.72 7.72c-.78.78-.78 2.05 0 2.83L4 21.41c.39.39.9.59 1.41.59.51 0 1.02-.2 1.41-.59l7.78-7.78 2.81-2.81c.8-.78.8-2.07 0-2.86zM5.41 20L4 18.59l7.72-7.72 1.47 1.35L5.41 20z\"/>\n",
              "  </svg>\n",
              "      </button>\n",
              "      \n",
              "  <style>\n",
              "    .colab-df-container {\n",
              "      display:flex;\n",
              "      flex-wrap:wrap;\n",
              "      gap: 12px;\n",
              "    }\n",
              "\n",
              "    .colab-df-convert {\n",
              "      background-color: #E8F0FE;\n",
              "      border: none;\n",
              "      border-radius: 50%;\n",
              "      cursor: pointer;\n",
              "      display: none;\n",
              "      fill: #1967D2;\n",
              "      height: 32px;\n",
              "      padding: 0 0 0 0;\n",
              "      width: 32px;\n",
              "    }\n",
              "\n",
              "    .colab-df-convert:hover {\n",
              "      background-color: #E2EBFA;\n",
              "      box-shadow: 0px 1px 2px rgba(60, 64, 67, 0.3), 0px 1px 3px 1px rgba(60, 64, 67, 0.15);\n",
              "      fill: #174EA6;\n",
              "    }\n",
              "\n",
              "    [theme=dark] .colab-df-convert {\n",
              "      background-color: #3B4455;\n",
              "      fill: #D2E3FC;\n",
              "    }\n",
              "\n",
              "    [theme=dark] .colab-df-convert:hover {\n",
              "      background-color: #434B5C;\n",
              "      box-shadow: 0px 1px 3px 1px rgba(0, 0, 0, 0.15);\n",
              "      filter: drop-shadow(0px 1px 2px rgba(0, 0, 0, 0.3));\n",
              "      fill: #FFFFFF;\n",
              "    }\n",
              "  </style>\n",
              "\n",
              "      <script>\n",
              "        const buttonEl =\n",
              "          document.querySelector('#df-cde5ec5c-02b4-4aee-94f4-5789f53858ad button.colab-df-convert');\n",
              "        buttonEl.style.display =\n",
              "          google.colab.kernel.accessAllowed ? 'block' : 'none';\n",
              "\n",
              "        async function convertToInteractive(key) {\n",
              "          const element = document.querySelector('#df-cde5ec5c-02b4-4aee-94f4-5789f53858ad');\n",
              "          const dataTable =\n",
              "            await google.colab.kernel.invokeFunction('convertToInteractive',\n",
              "                                                     [key], {});\n",
              "          if (!dataTable) return;\n",
              "\n",
              "          const docLinkHtml = 'Like what you see? Visit the ' +\n",
              "            '<a target=\"_blank\" href=https://colab.research.google.com/notebooks/data_table.ipynb>data table notebook</a>'\n",
              "            + ' to learn more about interactive tables.';\n",
              "          element.innerHTML = '';\n",
              "          dataTable['output_type'] = 'display_data';\n",
              "          await google.colab.output.renderOutput(dataTable, element);\n",
              "          const docLink = document.createElement('div');\n",
              "          docLink.innerHTML = docLinkHtml;\n",
              "          element.appendChild(docLink);\n",
              "        }\n",
              "      </script>\n",
              "    </div>\n",
              "  </div>\n",
              "  "
            ]
          },
          "metadata": {},
          "execution_count": 7
        }
      ]
    },
    {
      "cell_type": "markdown",
      "source": [
        "6. Considere una empresa con tres puntos potenciales para ubicar sus instalaciones (J =\n",
        "{1,2,3}) y cinco puntos de demanda que debe satisfacer (I = {1,2,3,4,5}). La apertura del\n",
        "punto j ∈ J tiene un costo fijo de funcionamiento fj, independientemente del volumen de ventas que maneje. Este volumen está limitado a una determinada cantidad máxima que puede manejarse anualmente (Mj). Además, hay un costo de transporte cij para ir desde el punto j para abastecer la demanda en el punto i. Las siguientes tablas muestran los datos de demanda en cada punto:"
      ],
      "metadata": {
        "id": "xrKhUe1UuYKr"
      }
    },
    {
      "cell_type": "code",
      "source": [
        "demand = np.array([80, 270, 250, 160, 180])\n",
        "\n",
        "costs = np.array([[4, 6, 9], [5, 4, 7], [6, 3, 4], [8, 5, 3], [10, 8, 4]])\n",
        "\n",
        "fixed_costs = np.array([1000, 1000, 1000])\n",
        "\n",
        "max_capacities = np.array([500, 500, 500])"
      ],
      "metadata": {
        "id": "3dyJF8hPuiQa"
      },
      "execution_count": 8,
      "outputs": []
    },
    {
      "cell_type": "code",
      "source": [
        "x = cp.Variable((5, 3), nonneg=True)\n",
        "y = cp.Variable(3, boolean=True)\n",
        "\n",
        "objective = cp.Minimize(cp.sum(cp.multiply(fixed_costs, y)) + cp.sum(cp.multiply(costs, x)))"
      ],
      "metadata": {
        "id": "Ffb7JlwDdYUx"
      },
      "execution_count": 9,
      "outputs": []
    },
    {
      "cell_type": "code",
      "source": [
        "constraints = []\n",
        "\n",
        "for i in range(5):\n",
        "  constraints.append(cp.sum(x[i, :]) >= demand[i])\n",
        "\n",
        "for j in range(3):\n",
        "  constraints.append(cp.sum(x[:, j]) <= max_capacities[j] * y[j])\n",
        "\n",
        "problem = cp.Problem(objective, constraints)\n",
        "problem.solve()"
      ],
      "metadata": {
        "colab": {
          "base_uri": "https://localhost:8080/"
        },
        "id": "__gCZ1qFd9oz",
        "outputId": "304e5d04-caac-46a2-8675-40acd01d03e0"
      },
      "execution_count": 10,
      "outputs": [
        {
          "output_type": "execute_result",
          "data": {
            "text/plain": [
              "5610.0"
            ]
          },
          "metadata": {},
          "execution_count": 10
        }
      ]
    },
    {
      "cell_type": "code",
      "source": [
        "print(\"Optimal value:\", problem.value)\n",
        "print(\"x:\\n\", x.value)\n",
        "print(\"y:\", y.value)"
      ],
      "metadata": {
        "colab": {
          "base_uri": "https://localhost:8080/"
        },
        "id": "_D7JYdHfd_8H",
        "outputId": "6fbd9b35-5c52-4b1c-ff5a-4ba1f80357fa"
      },
      "execution_count": 11,
      "outputs": [
        {
          "output_type": "stream",
          "name": "stdout",
          "text": [
            "Optimal value: 5610.0\n",
            "x:\n",
            " [[  0.  80.  -0.]\n",
            " [ -0. 270.  -0.]\n",
            " [ -0. 150. 100.]\n",
            " [ -0.  -0. 160.]\n",
            " [ -0.  -0. 180.]]\n",
            "y: [0. 1. 1.]\n"
          ]
        }
      ]
    }
  ]
}